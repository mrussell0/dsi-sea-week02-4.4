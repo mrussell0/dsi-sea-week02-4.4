{
 "cells": [
  {
   "cell_type": "code",
   "execution_count": 2,
   "metadata": {
    "button": false,
    "collapsed": true,
    "deletable": true,
    "new_sheet": false,
    "run_control": {
     "read_only": false
    }
   },
   "outputs": [],
   "source": [
    "import pandas as pd\n",
    "import numpy as np"
   ]
  },
  {
   "cell_type": "markdown",
   "metadata": {
    "button": false,
    "deletable": true,
    "new_sheet": false,
    "run_control": {
     "read_only": false
    }
   },
   "source": [
    "### Lab"
   ]
  },
  {
   "cell_type": "markdown",
   "metadata": {
    "button": false,
    "collapsed": false,
    "deletable": true,
    "new_sheet": false,
    "run_control": {
     "read_only": false
    }
   },
   "source": [
    "### Load your database here recruit!"
   ]
  },
  {
   "cell_type": "code",
   "execution_count": 3,
   "metadata": {
    "button": false,
    "collapsed": false,
    "deletable": true,
    "new_sheet": false,
    "run_control": {
     "read_only": false
    }
   },
   "outputs": [],
   "source": [
    "df = pd.read_csv('./../../assets/marvel.csv')"
   ]
  },
  {
   "cell_type": "code",
   "execution_count": 4,
   "metadata": {
    "collapsed": false
   },
   "outputs": [
    {
     "name": "stdout",
     "output_type": "stream",
     "text": [
      "   page_id                                 name  \\\n",
      "0     1678            Spider-Man (Peter Parker)   \n",
      "1     7139      Captain America (Steven Rogers)   \n",
      "2    64786  Wolverine (James \\\"Logan\\\" Howlett)   \n",
      "3     1868    Iron Man (Anthony \\\"Tony\\\" Stark)   \n",
      "4     2460                  Thor (Thor Odinson)   \n",
      "\n",
      "                                   urlslug                ID  \\\n",
      "0              \\/Spider-Man_(Peter_Parker)   Secret Identity   \n",
      "1        \\/Captain_America_(Steven_Rogers)   Public Identity   \n",
      "2  \\/Wolverine_(James_%22Logan%22_Howlett)   Public Identity   \n",
      "3    \\/Iron_Man_(Anthony_%22Tony%22_Stark)   Public Identity   \n",
      "4                    \\/Thor_(Thor_Odinson)  No Dual Identity   \n",
      "\n",
      "                ALIGN         EYE        HAIR              SEX  GSM  \\\n",
      "0     Good Characters  Hazel Eyes  Brown Hair  Male Characters  NaN   \n",
      "1     Good Characters   Blue Eyes  White Hair  Male Characters  NaN   \n",
      "2  Neutral Characters   Blue Eyes  Black Hair  Male Characters  NaN   \n",
      "3     Good Characters   Blue Eyes  Black Hair  Male Characters  NaN   \n",
      "4     Good Characters   Blue Eyes  Blond Hair  Male Characters  NaN   \n",
      "\n",
      "               ALIVE  APPEARANCES FIRST APPEARANCE    Year  \n",
      "0  Living Characters       4043.0           Aug-62  1962.0  \n",
      "1  Living Characters       3360.0           Mar-41  1941.0  \n",
      "2  Living Characters       3061.0           Oct-74  1974.0  \n",
      "3  Living Characters       2961.0           Mar-63  1963.0  \n",
      "4  Living Characters       2258.0           Nov-50  1950.0  \n"
     ]
    }
   ],
   "source": [
    "print df.head()"
   ]
  },
  {
   "cell_type": "markdown",
   "metadata": {
    "button": false,
    "deletable": true,
    "new_sheet": false,
    "run_control": {
     "read_only": false
    }
   },
   "source": [
    "### Here are our findings from extensive research and hero fighting. Run this field once. It will set up all of your data for you. Feel free to add additional weaknesses and affinities if you feel like it!"
   ]
  },
  {
   "cell_type": "code",
   "execution_count": 5,
   "metadata": {
    "button": false,
    "collapsed": false,
    "deletable": true,
    "new_sheet": false,
    "run_control": {
     "read_only": false
    }
   },
   "outputs": [],
   "source": [
    "def randomly(length):\n",
    "    return np.random.randint(0, length, size = 1)[0]\n",
    "\n",
    "def pull_unique(length, arr):\n",
    "    this_rand = randomly(length)\n",
    "    while this_rand in arr:\n",
    "        this_rand = randomly(length)\n",
    "    return this_rand\n",
    "\n",
    "\n",
    "value_length = len(df) + len(df) / 20\n",
    "\n",
    "#the hero's weakness\n",
    "weaknesses = [\"ponies\",\"butterflies\",\"apple pie\",\"spiders\",\n",
    "              \"giant robots\",\"fireballs\",\"tv static\",\"gerbils\",\n",
    "              \"lactose\",\"Walmart\",\"boomerangs\",\"kangaroos\",\"true love\", \"Shaq\"]\n",
    "\n",
    "#the hero's favorite hobby\n",
    "affinities = [\"balloons\",\"rubber ducks\",\"plasma laser guns\",\"ghosts\",\n",
    "              \"clouds\",\"bouncy balls\",\"milkshakes\",\"storms\",\n",
    "              \"preschools\",\"Panda Express\",\"shag rugs\",\"bubble gum\",\"Kanye West\"]\n",
    "\n",
    "super_weaknesses = [weaknesses[randomly(len(weaknesses))] for x in range(value_length)]\n",
    "affinities = [affinities[randomly(len(affinities))] for x in range(value_length)]\n",
    "killability = [randomly(10) + 1 for x in range(value_length)]\n",
    "more_ids = list(df['page_id'])\n",
    "\n",
    "for x in range(value_length - len(df)):\n",
    "    unique = [pull_unique(100000,more_ids)]\n",
    "    more_ids += unique\n",
    "    \n",
    "raw_data = {\n",
    "        'page_id' : more_ids,\n",
    "        'Weaknesses': super_weaknesses,\n",
    "        'Affinities': affinities,\n",
    "        'Killability': killability}"
   ]
  },
  {
   "cell_type": "markdown",
   "metadata": {
    "button": false,
    "deletable": true,
    "new_sheet": false,
    "run_control": {
     "read_only": false
    }
   },
   "source": [
    "### Create a new dataframe with your raw data"
   ]
  },
  {
   "cell_type": "code",
   "execution_count": 6,
   "metadata": {
    "button": false,
    "collapsed": false,
    "deletable": true,
    "new_sheet": false,
    "run_control": {
     "read_only": false
    }
   },
   "outputs": [
    {
     "name": "stdout",
     "output_type": "stream",
     "text": [
      "     Affinities  Killability    Weaknesses  page_id\n",
      "0  bouncy balls            1  giant robots     1678\n",
      "1    bubble gum           10     apple pie     7139\n",
      "2    Kanye West            1       lactose    64786\n",
      "3        clouds            8     kangaroos     1868\n",
      "4    preschools            3    boomerangs     2460\n"
     ]
    }
   ],
   "source": [
    "marvel = pd.DataFrame(raw_data)\n",
    "print marvel.head()"
   ]
  },
  {
   "cell_type": "markdown",
   "metadata": {
    "button": false,
    "deletable": true,
    "new_sheet": false,
    "run_control": {
     "read_only": false
    }
   },
   "source": [
    "### What print out the ids in your data that don't match the ids in marvel.csv"
   ]
  },
  {
   "cell_type": "code",
   "execution_count": null,
   "metadata": {
    "button": false,
    "collapsed": true,
    "deletable": true,
    "new_sheet": false,
    "run_control": {
     "read_only": false
    }
   },
   "outputs": [],
   "source": []
  },
  {
   "cell_type": "markdown",
   "metadata": {
    "button": false,
    "deletable": true,
    "new_sheet": false,
    "run_control": {
     "read_only": false
    }
   },
   "source": [
    "### Perform an inner join with your dataframes. This should automatically throw out the values that don't map to each other"
   ]
  },
  {
   "cell_type": "code",
   "execution_count": 7,
   "metadata": {
    "button": false,
    "collapsed": false,
    "deletable": true,
    "new_sheet": false,
    "run_control": {
     "read_only": false
    }
   },
   "outputs": [
    {
     "name": "stdout",
     "output_type": "stream",
     "text": [
      "   page_id                                 name  \\\n",
      "0     1678            Spider-Man (Peter Parker)   \n",
      "1     7139      Captain America (Steven Rogers)   \n",
      "2    64786  Wolverine (James \\\"Logan\\\" Howlett)   \n",
      "3     1868    Iron Man (Anthony \\\"Tony\\\" Stark)   \n",
      "4     2460                  Thor (Thor Odinson)   \n",
      "\n",
      "                                   urlslug                ID  \\\n",
      "0              \\/Spider-Man_(Peter_Parker)   Secret Identity   \n",
      "1        \\/Captain_America_(Steven_Rogers)   Public Identity   \n",
      "2  \\/Wolverine_(James_%22Logan%22_Howlett)   Public Identity   \n",
      "3    \\/Iron_Man_(Anthony_%22Tony%22_Stark)   Public Identity   \n",
      "4                    \\/Thor_(Thor_Odinson)  No Dual Identity   \n",
      "\n",
      "                ALIGN         EYE        HAIR              SEX  GSM  \\\n",
      "0     Good Characters  Hazel Eyes  Brown Hair  Male Characters  NaN   \n",
      "1     Good Characters   Blue Eyes  White Hair  Male Characters  NaN   \n",
      "2  Neutral Characters   Blue Eyes  Black Hair  Male Characters  NaN   \n",
      "3     Good Characters   Blue Eyes  Black Hair  Male Characters  NaN   \n",
      "4     Good Characters   Blue Eyes  Blond Hair  Male Characters  NaN   \n",
      "\n",
      "               ALIVE  APPEARANCES FIRST APPEARANCE    Year    Affinities  \\\n",
      "0  Living Characters       4043.0           Aug-62  1962.0  bouncy balls   \n",
      "1  Living Characters       3360.0           Mar-41  1941.0    bubble gum   \n",
      "2  Living Characters       3061.0           Oct-74  1974.0    Kanye West   \n",
      "3  Living Characters       2961.0           Mar-63  1963.0        clouds   \n",
      "4  Living Characters       2258.0           Nov-50  1950.0    preschools   \n",
      "\n",
      "   Killability    Weaknesses  \n",
      "0            1  giant robots  \n",
      "1           10     apple pie  \n",
      "2            1       lactose  \n",
      "3            8     kangaroos  \n",
      "4            3    boomerangs  \n"
     ]
    }
   ],
   "source": [
    "inner = pd.merge(df, marvel, how=\"inner\", on=\"page_id\")\n",
    "print inner.head()"
   ]
  },
  {
   "cell_type": "markdown",
   "metadata": {
    "button": false,
    "deletable": true,
    "new_sheet": false,
    "run_control": {
     "read_only": false
    }
   },
   "source": [
    "### The Brain ([Leader of the League/Brotherhood of Evil](https://en.wikipedia.org/wiki/Brain_(comics))) has asked you to evaluate your data. Since funds are short, the league wants to know which Good Aligned hero weakness is most beneficial to invest in. Make sure the heros are still alive. No use investing in problems we don't have."
   ]
  },
  {
   "cell_type": "code",
   "execution_count": 8,
   "metadata": {
    "collapsed": false
   },
   "outputs": [
    {
     "name": "stdout",
     "output_type": "stream",
     "text": [
      "fireballs       313\n",
      "gerbils         297\n",
      "spiders         292\n",
      "butterflies     290\n",
      "Shaq            276\n",
      "lactose         274\n",
      "boomerangs      274\n",
      "kangaroos       273\n",
      "apple pie       258\n",
      "true love       257\n",
      "tv static       255\n",
      "Walmart         254\n",
      "giant robots    242\n",
      "ponies          238\n",
      "Name: Weaknesses, dtype: int64\n"
     ]
    }
   ],
   "source": [
    "char_weakness = inner.ix[(inner['ALIVE'] == 'Living Characters') & \n",
    "                         (inner['ALIGN'] == 'Good Characters')]['Weaknesses'].value_counts()\n",
    "print char_weakness"
   ]
  },
  {
   "cell_type": "markdown",
   "metadata": {
    "button": false,
    "deletable": true,
    "new_sheet": false,
    "run_control": {
     "read_only": false
    }
   },
   "source": [
    "### Phobia ([League/Brotherhood of Evil Platinum Member](https://en.wikipedia.org/wiki/Phobia_(comics)) is more interested in the affinities of the Good Aligned heros with their identities exposed. Which affinity would you recommend the guild invest in?"
   ]
  },
  {
   "cell_type": "code",
   "execution_count": 9,
   "metadata": {
    "button": false,
    "collapsed": false,
    "deletable": true,
    "new_sheet": false,
    "run_control": {
     "read_only": false
    }
   },
   "outputs": [
    {
     "name": "stdout",
     "output_type": "stream",
     "text": [
      "fireballs       266\n",
      "gerbils         229\n",
      "spiders         223\n",
      "Shaq            221\n",
      "boomerangs      217\n",
      "lactose         216\n",
      "giant robots    215\n",
      "apple pie       215\n",
      "butterflies     212\n",
      "Walmart         208\n",
      "kangaroos       203\n",
      "ponies          201\n",
      "true love       201\n",
      "tv static       196\n",
      "Name: Weaknesses, dtype: int64\n"
     ]
    }
   ],
   "source": [
    "char_exposed = inner.ix[(inner['ID'] != 'Secret Identity') & \n",
    "                         (inner['ALIGN'] == 'Good Characters')]['Weaknesses'].value_counts()\n",
    "\n",
    "print char_exposed"
   ]
  },
  {
   "cell_type": "markdown",
   "metadata": {
    "button": false,
    "deletable": true,
    "new_sheet": false,
    "run_control": {
     "read_only": false
    }
   },
   "source": [
    "### Madame Rouge ([League/Brotherhood of Evil House Mom](https://en.wikipedia.org/wiki/Madame_Rouge)) is concerned about the killability of our heros based on their alignment. Let's create a table for her, comparing our hero's alignments with their killability."
   ]
  },
  {
   "cell_type": "code",
   "execution_count": 10,
   "metadata": {
    "button": false,
    "collapsed": false,
    "deletable": true,
    "new_sheet": false,
    "run_control": {
     "read_only": false
    }
   },
   "outputs": [
    {
     "data": {
      "text/html": [
       "<div>\n",
       "<table border=\"1\" class=\"dataframe\">\n",
       "  <thead>\n",
       "    <tr style=\"text-align: right;\">\n",
       "      <th></th>\n",
       "      <th>Killability</th>\n",
       "    </tr>\n",
       "    <tr>\n",
       "      <th>ALIGN</th>\n",
       "      <th></th>\n",
       "    </tr>\n",
       "  </thead>\n",
       "  <tbody>\n",
       "    <tr>\n",
       "      <th>Bad Characters</th>\n",
       "      <td>5.495387</td>\n",
       "    </tr>\n",
       "    <tr>\n",
       "      <th>Good Characters</th>\n",
       "      <td>5.556299</td>\n",
       "    </tr>\n",
       "    <tr>\n",
       "      <th>Neutral Characters</th>\n",
       "      <td>5.510417</td>\n",
       "    </tr>\n",
       "  </tbody>\n",
       "</table>\n",
       "</div>"
      ],
      "text/plain": [
       "                    Killability\n",
       "ALIGN                          \n",
       "Bad Characters         5.495387\n",
       "Good Characters        5.556299\n",
       "Neutral Characters     5.510417"
      ]
     },
     "execution_count": 10,
     "metadata": {},
     "output_type": "execute_result"
    }
   ],
   "source": [
    "pd.pivot_table(inner, index=['ALIGN', ], values= ['Killability'])"
   ]
  },
  {
   "cell_type": "markdown",
   "metadata": {
    "button": false,
    "deletable": true,
    "new_sheet": false,
    "run_control": {
     "read_only": false
    }
   },
   "source": [
    "### Madame Rouge ([League/Brotherhood of Evil House Mom](https://en.wikipedia.org/wiki/Madame_Rouge)) is also concerned about the affinity of our heros based on their alignment. Let's create a table for her, comparing our hero's alignments with their affinities."
   ]
  },
  {
   "cell_type": "code",
   "execution_count": 11,
   "metadata": {
    "button": false,
    "collapsed": false,
    "deletable": true,
    "new_sheet": false,
    "run_control": {
     "read_only": false
    }
   },
   "outputs": [
    {
     "data": {
      "text/html": [
       "<div>\n",
       "<table border=\"1\" class=\"dataframe\">\n",
       "  <thead>\n",
       "    <tr style=\"text-align: right;\">\n",
       "      <th></th>\n",
       "      <th></th>\n",
       "      <th>Affinities</th>\n",
       "    </tr>\n",
       "    <tr>\n",
       "      <th>ALIGN</th>\n",
       "      <th>name</th>\n",
       "      <th></th>\n",
       "    </tr>\n",
       "  </thead>\n",
       "  <tbody>\n",
       "    <tr>\n",
       "      <th rowspan=\"30\" valign=\"top\">Bad Characters</th>\n",
       "      <th>11-Ball (Earth-616)</th>\n",
       "      <td>ghosts</td>\n",
       "    </tr>\n",
       "    <tr>\n",
       "      <th>14 (Earth-616)</th>\n",
       "      <td>bubble gum</td>\n",
       "    </tr>\n",
       "    <tr>\n",
       "      <th>6-Ball (Earth-616)</th>\n",
       "      <td>ghosts</td>\n",
       "    </tr>\n",
       "    <tr>\n",
       "      <th>6R (Earth-616)</th>\n",
       "      <td>balloons</td>\n",
       "    </tr>\n",
       "    <tr>\n",
       "      <th>8-Ball (Hobgoblin) (Earth-616)</th>\n",
       "      <td>bouncy balls</td>\n",
       "    </tr>\n",
       "    <tr>\n",
       "      <th>8-Ball II (Earth-616)</th>\n",
       "      <td>clouds</td>\n",
       "    </tr>\n",
       "    <tr>\n",
       "      <th>88 (Earth-616)</th>\n",
       "      <td>preschools</td>\n",
       "    </tr>\n",
       "    <tr>\n",
       "      <th>9-Ball (Earth-616)</th>\n",
       "      <td>bouncy balls</td>\n",
       "    </tr>\n",
       "    <tr>\n",
       "      <th>A (Earth-616)</th>\n",
       "      <td>milkshakes</td>\n",
       "    </tr>\n",
       "    <tr>\n",
       "      <th>A'yin (Earth-616)</th>\n",
       "      <td>Kanye West</td>\n",
       "    </tr>\n",
       "    <tr>\n",
       "      <th>A3 (Earth-616)</th>\n",
       "      <td>balloons</td>\n",
       "    </tr>\n",
       "    <tr>\n",
       "      <th>Aa-Thak (Earth-616)</th>\n",
       "      <td>milkshakes</td>\n",
       "    </tr>\n",
       "    <tr>\n",
       "      <th>Aaidan Blomfield (Earth-616)</th>\n",
       "      <td>Panda Express</td>\n",
       "    </tr>\n",
       "    <tr>\n",
       "      <th>Aaron Cashin (Earth-616)</th>\n",
       "      <td>milkshakes</td>\n",
       "    </tr>\n",
       "    <tr>\n",
       "      <th>Aaron Chord (Earth-616)</th>\n",
       "      <td>rubber ducks</td>\n",
       "    </tr>\n",
       "    <tr>\n",
       "      <th>Aaron Nicholson (Earth-616)</th>\n",
       "      <td>balloons</td>\n",
       "    </tr>\n",
       "    <tr>\n",
       "      <th>Aaron Salomon (Earth-616)</th>\n",
       "      <td>milkshakes</td>\n",
       "    </tr>\n",
       "    <tr>\n",
       "      <th>Aaron Soames (Earth-616)</th>\n",
       "      <td>Kanye West</td>\n",
       "    </tr>\n",
       "    <tr>\n",
       "      <th>Aaron Thorne (Earth-616)</th>\n",
       "      <td>shag rugs</td>\n",
       "    </tr>\n",
       "    <tr>\n",
       "      <th>Aaron Verne (Earth-616)</th>\n",
       "      <td>shag rugs</td>\n",
       "    </tr>\n",
       "    <tr>\n",
       "      <th>Abadon (Earth-616)</th>\n",
       "      <td>storms</td>\n",
       "    </tr>\n",
       "    <tr>\n",
       "      <th>Aban (Earth-616)</th>\n",
       "      <td>shag rugs</td>\n",
       "    </tr>\n",
       "    <tr>\n",
       "      <th>Abara and Cadabra (Earth-616)</th>\n",
       "      <td>plasma laser guns</td>\n",
       "    </tr>\n",
       "    <tr>\n",
       "      <th>Abbas al-Abbad (Earth-616)</th>\n",
       "      <td>ghosts</td>\n",
       "    </tr>\n",
       "    <tr>\n",
       "      <th>Abbess Horror (Earth-616)</th>\n",
       "      <td>clouds</td>\n",
       "    </tr>\n",
       "    <tr>\n",
       "      <th>Abd-el-Hazred (Earth-616)</th>\n",
       "      <td>balloons</td>\n",
       "    </tr>\n",
       "    <tr>\n",
       "      <th>Abdi (Earth-616)</th>\n",
       "      <td>bubble gum</td>\n",
       "    </tr>\n",
       "    <tr>\n",
       "      <th>Able Doone (Earth-616)</th>\n",
       "      <td>rubber ducks</td>\n",
       "    </tr>\n",
       "    <tr>\n",
       "      <th>Abner Jonas (Earth-616)</th>\n",
       "      <td>milkshakes</td>\n",
       "    </tr>\n",
       "    <tr>\n",
       "      <th>Abraham James (Earth-616)</th>\n",
       "      <td>bubble gum</td>\n",
       "    </tr>\n",
       "    <tr>\n",
       "      <th>...</th>\n",
       "      <th>...</th>\n",
       "      <td>...</td>\n",
       "    </tr>\n",
       "    <tr>\n",
       "      <th rowspan=\"30\" valign=\"top\">Neutral Characters</th>\n",
       "      <th>Yod (Earth-616)</th>\n",
       "      <td>bubble gum</td>\n",
       "    </tr>\n",
       "    <tr>\n",
       "      <th>Yorlo (Earth-616)</th>\n",
       "      <td>Panda Express</td>\n",
       "    </tr>\n",
       "    <tr>\n",
       "      <th>Yoshi (Earth-616)</th>\n",
       "      <td>ghosts</td>\n",
       "    </tr>\n",
       "    <tr>\n",
       "      <th>Yoshi's mother (Earth-616)</th>\n",
       "      <td>shag rugs</td>\n",
       "    </tr>\n",
       "    <tr>\n",
       "      <th>Young Soo Pock (Earth-616)</th>\n",
       "      <td>bubble gum</td>\n",
       "    </tr>\n",
       "    <tr>\n",
       "      <th>Yruku (Earth-616)</th>\n",
       "      <td>clouds</td>\n",
       "    </tr>\n",
       "    <tr>\n",
       "      <th>Yukio (Earth-616)</th>\n",
       "      <td>storms</td>\n",
       "    </tr>\n",
       "    <tr>\n",
       "      <th>Yuri Topolov (Earth-616)</th>\n",
       "      <td>rubber ducks</td>\n",
       "    </tr>\n",
       "    <tr>\n",
       "      <th>Yuriko Takiguchi (Earth-616)</th>\n",
       "      <td>Kanye West</td>\n",
       "    </tr>\n",
       "    <tr>\n",
       "      <th>Yvette Steckley (Earth-616)</th>\n",
       "      <td>bouncy balls</td>\n",
       "    </tr>\n",
       "    <tr>\n",
       "      <th>Za'ken (Earth-616)</th>\n",
       "      <td>Panda Express</td>\n",
       "    </tr>\n",
       "    <tr>\n",
       "      <th>Zahvut Dragunov (Earth-616)</th>\n",
       "      <td>shag rugs</td>\n",
       "    </tr>\n",
       "    <tr>\n",
       "      <th>Zalme (Earth-616)</th>\n",
       "      <td>preschools</td>\n",
       "    </tr>\n",
       "    <tr>\n",
       "      <th>Zalph (Earth-616)</th>\n",
       "      <td>clouds</td>\n",
       "    </tr>\n",
       "    <tr>\n",
       "      <th>Zamanathan Rambunazeth (Earth-616)</th>\n",
       "      <td>plasma laser guns</td>\n",
       "    </tr>\n",
       "    <tr>\n",
       "      <th>Zarathos (Earth-616)</th>\n",
       "      <td>milkshakes</td>\n",
       "    </tr>\n",
       "    <tr>\n",
       "      <th>Zarin (Eternal) (Earth-616)</th>\n",
       "      <td>shag rugs</td>\n",
       "    </tr>\n",
       "    <tr>\n",
       "      <th>Zeeshan (Earth-616)</th>\n",
       "      <td>balloons</td>\n",
       "    </tr>\n",
       "    <tr>\n",
       "      <th>Zephyr (Earth-616)</th>\n",
       "      <td>clouds</td>\n",
       "    </tr>\n",
       "    <tr>\n",
       "      <th>Zero G. Priestly (Legion Personality) (Earth-616)</th>\n",
       "      <td>preschools</td>\n",
       "    </tr>\n",
       "    <tr>\n",
       "      <th>Zeus Panhellenios (Earth-616)</th>\n",
       "      <td>ghosts</td>\n",
       "    </tr>\n",
       "    <tr>\n",
       "      <th>Zimmer (Earth-616)</th>\n",
       "      <td>rubber ducks</td>\n",
       "    </tr>\n",
       "    <tr>\n",
       "      <th>Ziran (Earth-616)</th>\n",
       "      <td>balloons</td>\n",
       "    </tr>\n",
       "    <tr>\n",
       "      <th>Zius (Earth-616)</th>\n",
       "      <td>clouds</td>\n",
       "    </tr>\n",
       "    <tr>\n",
       "      <th>Zoe Ishihara (Earth-616)</th>\n",
       "      <td>Kanye West</td>\n",
       "    </tr>\n",
       "    <tr>\n",
       "      <th>Zon (Earth-616)</th>\n",
       "      <td>plasma laser guns</td>\n",
       "    </tr>\n",
       "    <tr>\n",
       "      <th>Zoro (Earth-616)</th>\n",
       "      <td>bubble gum</td>\n",
       "    </tr>\n",
       "    <tr>\n",
       "      <th>Zubar (Legion Personality) (Earth-616)</th>\n",
       "      <td>Kanye West</td>\n",
       "    </tr>\n",
       "    <tr>\n",
       "      <th>Zzutak's Enemy (Earth-616)</th>\n",
       "      <td>bubble gum</td>\n",
       "    </tr>\n",
       "    <tr>\n",
       "      <th>\\\"Spider-Girl\\\" (Mutant\\/Spider Clone) (Earth-616)</th>\n",
       "      <td>bouncy balls</td>\n",
       "    </tr>\n",
       "  </tbody>\n",
       "</table>\n",
       "<p>13564 rows × 1 columns</p>\n",
       "</div>"
      ],
      "text/plain": [
       "                                                                              Affinities\n",
       "ALIGN              name                                                                 \n",
       "Bad Characters     11-Ball (Earth-616)                                            ghosts\n",
       "                   14 (Earth-616)                                             bubble gum\n",
       "                   6-Ball (Earth-616)                                             ghosts\n",
       "                   6R (Earth-616)                                               balloons\n",
       "                   8-Ball (Hobgoblin) (Earth-616)                           bouncy balls\n",
       "                   8-Ball II (Earth-616)                                          clouds\n",
       "                   88 (Earth-616)                                             preschools\n",
       "                   9-Ball (Earth-616)                                       bouncy balls\n",
       "                   A (Earth-616)                                              milkshakes\n",
       "                   A'yin (Earth-616)                                          Kanye West\n",
       "                   A3 (Earth-616)                                               balloons\n",
       "                   Aa-Thak (Earth-616)                                        milkshakes\n",
       "                   Aaidan Blomfield (Earth-616)                            Panda Express\n",
       "                   Aaron Cashin (Earth-616)                                   milkshakes\n",
       "                   Aaron Chord (Earth-616)                                  rubber ducks\n",
       "                   Aaron Nicholson (Earth-616)                                  balloons\n",
       "                   Aaron Salomon (Earth-616)                                  milkshakes\n",
       "                   Aaron Soames (Earth-616)                                   Kanye West\n",
       "                   Aaron Thorne (Earth-616)                                    shag rugs\n",
       "                   Aaron Verne (Earth-616)                                     shag rugs\n",
       "                   Abadon (Earth-616)                                             storms\n",
       "                   Aban (Earth-616)                                            shag rugs\n",
       "                   Abara and Cadabra (Earth-616)                       plasma laser guns\n",
       "                   Abbas al-Abbad (Earth-616)                                     ghosts\n",
       "                   Abbess Horror (Earth-616)                                      clouds\n",
       "                   Abd-el-Hazred (Earth-616)                                    balloons\n",
       "                   Abdi (Earth-616)                                           bubble gum\n",
       "                   Able Doone (Earth-616)                                   rubber ducks\n",
       "                   Abner Jonas (Earth-616)                                    milkshakes\n",
       "                   Abraham James (Earth-616)                                  bubble gum\n",
       "...                                                                                  ...\n",
       "Neutral Characters Yod (Earth-616)                                            bubble gum\n",
       "                   Yorlo (Earth-616)                                       Panda Express\n",
       "                   Yoshi (Earth-616)                                              ghosts\n",
       "                   Yoshi's mother (Earth-616)                                  shag rugs\n",
       "                   Young Soo Pock (Earth-616)                                 bubble gum\n",
       "                   Yruku (Earth-616)                                              clouds\n",
       "                   Yukio (Earth-616)                                              storms\n",
       "                   Yuri Topolov (Earth-616)                                 rubber ducks\n",
       "                   Yuriko Takiguchi (Earth-616)                               Kanye West\n",
       "                   Yvette Steckley (Earth-616)                              bouncy balls\n",
       "                   Za'ken (Earth-616)                                      Panda Express\n",
       "                   Zahvut Dragunov (Earth-616)                                 shag rugs\n",
       "                   Zalme (Earth-616)                                          preschools\n",
       "                   Zalph (Earth-616)                                              clouds\n",
       "                   Zamanathan Rambunazeth (Earth-616)                  plasma laser guns\n",
       "                   Zarathos (Earth-616)                                       milkshakes\n",
       "                   Zarin (Eternal) (Earth-616)                                 shag rugs\n",
       "                   Zeeshan (Earth-616)                                          balloons\n",
       "                   Zephyr (Earth-616)                                             clouds\n",
       "                   Zero G. Priestly (Legion Personality) (Earth-616)          preschools\n",
       "                   Zeus Panhellenios (Earth-616)                                  ghosts\n",
       "                   Zimmer (Earth-616)                                       rubber ducks\n",
       "                   Ziran (Earth-616)                                            balloons\n",
       "                   Zius (Earth-616)                                               clouds\n",
       "                   Zoe Ishihara (Earth-616)                                   Kanye West\n",
       "                   Zon (Earth-616)                                     plasma laser guns\n",
       "                   Zoro (Earth-616)                                           bubble gum\n",
       "                   Zubar (Legion Personality) (Earth-616)                     Kanye West\n",
       "                   Zzutak's Enemy (Earth-616)                                 bubble gum\n",
       "                   \\\"Spider-Girl\\\" (Mutant\\/Spider Clone) (Earth-616)       bouncy balls\n",
       "\n",
       "[13564 rows x 1 columns]"
      ]
     },
     "execution_count": 11,
     "metadata": {},
     "output_type": "execute_result"
    }
   ],
   "source": [
    "pd.pivot_table(inner, index=['ALIGN','name'], values= ['Affinities'], aggfunc=sum)"
   ]
  },
  {
   "cell_type": "markdown",
   "metadata": {
    "button": false,
    "deletable": true,
    "new_sheet": false,
    "run_control": {
     "read_only": false
    }
   },
   "source": [
    "### General Immortus ([League/Brotherhood of Founding Member](https://en.wikipedia.org/wiki/General_Immortus)) took a look at your data and is concerned. Shouldn't we be adding all of our new data to our database? Let's merge all of our columns without regard to if they align or not."
   ]
  },
  {
   "cell_type": "code",
   "execution_count": 12,
   "metadata": {
    "button": false,
    "collapsed": false,
    "deletable": true,
    "new_sheet": false,
    "run_control": {
     "read_only": false
    }
   },
   "outputs": [
    {
     "name": "stdout",
     "output_type": "stream",
     "text": [
      "       page_id                                 name  \\\n",
      "0       1678.0            Spider-Man (Peter Parker)   \n",
      "1       7139.0      Captain America (Steven Rogers)   \n",
      "2      64786.0  Wolverine (James \\\"Logan\\\" Howlett)   \n",
      "3       1868.0    Iron Man (Anthony \\\"Tony\\\" Stark)   \n",
      "4       2460.0                  Thor (Thor Odinson)   \n",
      "5       2458.0           Benjamin Grimm (Earth-616)   \n",
      "6       2166.0            Reed Richards (Earth-616)   \n",
      "7       1833.0           Hulk (Robert Bruce Banner)   \n",
      "8      29481.0            Scott Summers (Earth-616)   \n",
      "9       1837.0           Jonathan Storm (Earth-616)   \n",
      "10     15725.0              Henry McCoy (Earth-616)   \n",
      "11      1863.0              Susan Storm (Earth-616)   \n",
      "12      7823.0           Namor McKenzie (Earth-616)   \n",
      "13      2614.0             Ororo Munroe (Earth-616)   \n",
      "14      1803.0           Clinton Barton (Earth-616)   \n",
      "15      1396.0          Matthew Murdock (Earth-616)   \n",
      "16     55534.0          Stephen Strange (Earth-616)   \n",
      "17      1978.0         Mary Jane Watson (Earth-616)   \n",
      "18      1872.0       John Jonah Jameson (Earth-616)   \n",
      "19     35350.0             Robert Drake (Earth-616)   \n",
      "20      1557.0                Henry Pym (Earth-616)   \n",
      "21     65255.0           Charles Xavier (Earth-616)   \n",
      "22      1073.0   Warren Worthington III (Earth-616)   \n",
      "23      1346.0           Piotr Rasputin (Earth-616)   \n",
      "24      2512.0           Wanda Maximoff (Earth-616)   \n",
      "25      1671.0            Nicholas Fury (Earth-616)   \n",
      "26      1976.0           Janet van Dyne (Earth-616)   \n",
      "27     65219.0                Jean Grey (Earth-616)   \n",
      "28      6545.0         Natalia Romanova (Earth-616)   \n",
      "29      2223.0              Kurt Wagner (Earth-616)   \n",
      "...        ...                                  ...   \n",
      "17164  52601.0                                  NaN   \n",
      "17165   1640.0                                  NaN   \n",
      "17166  36683.0                                  NaN   \n",
      "17167  95709.0                                  NaN   \n",
      "17168   6066.0                                  NaN   \n",
      "17169  73811.0                                  NaN   \n",
      "17170  36157.0                                  NaN   \n",
      "17171  28459.0                                  NaN   \n",
      "17172   5701.0                                  NaN   \n",
      "17173  91099.0                                  NaN   \n",
      "17174  24365.0                                  NaN   \n",
      "17175  76366.0                                  NaN   \n",
      "17176  88525.0                                  NaN   \n",
      "17177  14105.0                                  NaN   \n",
      "17178  12638.0                                  NaN   \n",
      "17179  39355.0                                  NaN   \n",
      "17180  35544.0                                  NaN   \n",
      "17181  27929.0                                  NaN   \n",
      "17182  95122.0                                  NaN   \n",
      "17183  33506.0                                  NaN   \n",
      "17184  99269.0                                  NaN   \n",
      "17185  99412.0                                  NaN   \n",
      "17186   5229.0                                  NaN   \n",
      "17187  87370.0                                  NaN   \n",
      "17188  56828.0                                  NaN   \n",
      "17189  38447.0                                  NaN   \n",
      "17190  99618.0                                  NaN   \n",
      "17191  60717.0                                  NaN   \n",
      "17192  56316.0                                  NaN   \n",
      "17193  93338.0                                  NaN   \n",
      "\n",
      "                                       urlslug                ID  \\\n",
      "0                  \\/Spider-Man_(Peter_Parker)   Secret Identity   \n",
      "1            \\/Captain_America_(Steven_Rogers)   Public Identity   \n",
      "2      \\/Wolverine_(James_%22Logan%22_Howlett)   Public Identity   \n",
      "3        \\/Iron_Man_(Anthony_%22Tony%22_Stark)   Public Identity   \n",
      "4                        \\/Thor_(Thor_Odinson)  No Dual Identity   \n",
      "5                 \\/Benjamin_Grimm_(Earth-616)   Public Identity   \n",
      "6                  \\/Reed_Richards_(Earth-616)   Public Identity   \n",
      "7                 \\/Hulk_(Robert_Bruce_Banner)   Public Identity   \n",
      "8                  \\/Scott_Summers_(Earth-616)   Public Identity   \n",
      "9                 \\/Jonathan_Storm_(Earth-616)   Public Identity   \n",
      "10                   \\/Henry_McCoy_(Earth-616)   Public Identity   \n",
      "11                   \\/Susan_Storm_(Earth-616)   Public Identity   \n",
      "12                \\/Namor_McKenzie_(Earth-616)  No Dual Identity   \n",
      "13                  \\/Ororo_Munroe_(Earth-616)   Public Identity   \n",
      "14                \\/Clinton_Barton_(Earth-616)   Public Identity   \n",
      "15               \\/Matthew_Murdock_(Earth-616)   Public Identity   \n",
      "16               \\/Stephen_Strange_(Earth-616)   Public Identity   \n",
      "17              \\/Mary_Jane_Watson_(Earth-616)  No Dual Identity   \n",
      "18            \\/John_Jonah_Jameson_(Earth-616)  No Dual Identity   \n",
      "19                  \\/Robert_Drake_(Earth-616)   Secret Identity   \n",
      "20                     \\/Henry_Pym_(Earth-616)   Public Identity   \n",
      "21                \\/Charles_Xavier_(Earth-616)   Public Identity   \n",
      "22        \\/Warren_Worthington_III_(Earth-616)   Public Identity   \n",
      "23                \\/Piotr_Rasputin_(Earth-616)   Secret Identity   \n",
      "24                \\/Wanda_Maximoff_(Earth-616)   Public Identity   \n",
      "25                 \\/Nicholas_Fury_(Earth-616)  No Dual Identity   \n",
      "26                \\/Janet_van_Dyne_(Earth-616)   Public Identity   \n",
      "27                     \\/Jean_Grey_(Earth-616)   Public Identity   \n",
      "28              \\/Natalia_Romanova_(Earth-616)   Public Identity   \n",
      "29                   \\/Kurt_Wagner_(Earth-616)   Secret Identity   \n",
      "...                                        ...               ...   \n",
      "17164                                      NaN               NaN   \n",
      "17165                                      NaN               NaN   \n",
      "17166                                      NaN               NaN   \n",
      "17167                                      NaN               NaN   \n",
      "17168                                      NaN               NaN   \n",
      "17169                                      NaN               NaN   \n",
      "17170                                      NaN               NaN   \n",
      "17171                                      NaN               NaN   \n",
      "17172                                      NaN               NaN   \n",
      "17173                                      NaN               NaN   \n",
      "17174                                      NaN               NaN   \n",
      "17175                                      NaN               NaN   \n",
      "17176                                      NaN               NaN   \n",
      "17177                                      NaN               NaN   \n",
      "17178                                      NaN               NaN   \n",
      "17179                                      NaN               NaN   \n",
      "17180                                      NaN               NaN   \n",
      "17181                                      NaN               NaN   \n",
      "17182                                      NaN               NaN   \n",
      "17183                                      NaN               NaN   \n",
      "17184                                      NaN               NaN   \n",
      "17185                                      NaN               NaN   \n",
      "17186                                      NaN               NaN   \n",
      "17187                                      NaN               NaN   \n",
      "17188                                      NaN               NaN   \n",
      "17189                                      NaN               NaN   \n",
      "17190                                      NaN               NaN   \n",
      "17191                                      NaN               NaN   \n",
      "17192                                      NaN               NaN   \n",
      "17193                                      NaN               NaN   \n",
      "\n",
      "                    ALIGN          EYE         HAIR                SEX  \\\n",
      "0         Good Characters   Hazel Eyes   Brown Hair    Male Characters   \n",
      "1         Good Characters    Blue Eyes   White Hair    Male Characters   \n",
      "2      Neutral Characters    Blue Eyes   Black Hair    Male Characters   \n",
      "3         Good Characters    Blue Eyes   Black Hair    Male Characters   \n",
      "4         Good Characters    Blue Eyes   Blond Hair    Male Characters   \n",
      "5         Good Characters    Blue Eyes      No Hair    Male Characters   \n",
      "6         Good Characters   Brown Eyes   Brown Hair    Male Characters   \n",
      "7         Good Characters   Brown Eyes   Brown Hair    Male Characters   \n",
      "8      Neutral Characters   Brown Eyes   Brown Hair    Male Characters   \n",
      "9         Good Characters    Blue Eyes   Blond Hair    Male Characters   \n",
      "10        Good Characters    Blue Eyes    Blue Hair    Male Characters   \n",
      "11        Good Characters    Blue Eyes   Blond Hair  Female Characters   \n",
      "12     Neutral Characters   Green Eyes   Black Hair    Male Characters   \n",
      "13        Good Characters    Blue Eyes   White Hair  Female Characters   \n",
      "14        Good Characters    Blue Eyes   Blond Hair    Male Characters   \n",
      "15        Good Characters    Blue Eyes     Red Hair    Male Characters   \n",
      "16        Good Characters    Grey Eyes   Black Hair    Male Characters   \n",
      "17        Good Characters   Green Eyes     Red Hair  Female Characters   \n",
      "18     Neutral Characters    Blue Eyes   Black Hair    Male Characters   \n",
      "19        Good Characters   Brown Eyes   Brown Hair    Male Characters   \n",
      "20        Good Characters    Blue Eyes   Blond Hair    Male Characters   \n",
      "21        Good Characters    Blue Eyes         Bald    Male Characters   \n",
      "22        Good Characters    Blue Eyes   Blond Hair    Male Characters   \n",
      "23        Good Characters    Blue Eyes   Black Hair    Male Characters   \n",
      "24        Good Characters   Green Eyes   Brown Hair  Female Characters   \n",
      "25     Neutral Characters   Brown Eyes   Brown Hair    Male Characters   \n",
      "26        Good Characters    Blue Eyes  Auburn Hair  Female Characters   \n",
      "27        Good Characters   Green Eyes     Red Hair  Female Characters   \n",
      "28        Good Characters   Green Eyes     Red Hair  Female Characters   \n",
      "29        Good Characters  Yellow Eyes    Blue Hair    Male Characters   \n",
      "...                   ...          ...          ...                ...   \n",
      "17164                 NaN          NaN          NaN                NaN   \n",
      "17165                 NaN          NaN          NaN                NaN   \n",
      "17166                 NaN          NaN          NaN                NaN   \n",
      "17167                 NaN          NaN          NaN                NaN   \n",
      "17168                 NaN          NaN          NaN                NaN   \n",
      "17169                 NaN          NaN          NaN                NaN   \n",
      "17170                 NaN          NaN          NaN                NaN   \n",
      "17171                 NaN          NaN          NaN                NaN   \n",
      "17172                 NaN          NaN          NaN                NaN   \n",
      "17173                 NaN          NaN          NaN                NaN   \n",
      "17174                 NaN          NaN          NaN                NaN   \n",
      "17175                 NaN          NaN          NaN                NaN   \n",
      "17176                 NaN          NaN          NaN                NaN   \n",
      "17177                 NaN          NaN          NaN                NaN   \n",
      "17178                 NaN          NaN          NaN                NaN   \n",
      "17179                 NaN          NaN          NaN                NaN   \n",
      "17180                 NaN          NaN          NaN                NaN   \n",
      "17181                 NaN          NaN          NaN                NaN   \n",
      "17182                 NaN          NaN          NaN                NaN   \n",
      "17183                 NaN          NaN          NaN                NaN   \n",
      "17184                 NaN          NaN          NaN                NaN   \n",
      "17185                 NaN          NaN          NaN                NaN   \n",
      "17186                 NaN          NaN          NaN                NaN   \n",
      "17187                 NaN          NaN          NaN                NaN   \n",
      "17188                 NaN          NaN          NaN                NaN   \n",
      "17189                 NaN          NaN          NaN                NaN   \n",
      "17190                 NaN          NaN          NaN                NaN   \n",
      "17191                 NaN          NaN          NaN                NaN   \n",
      "17192                 NaN          NaN          NaN                NaN   \n",
      "17193                 NaN          NaN          NaN                NaN   \n",
      "\n",
      "                       GSM                ALIVE  APPEARANCES FIRST APPEARANCE  \\\n",
      "0                      NaN    Living Characters       4043.0           Aug-62   \n",
      "1                      NaN    Living Characters       3360.0           Mar-41   \n",
      "2                      NaN    Living Characters       3061.0           Oct-74   \n",
      "3                      NaN    Living Characters       2961.0           Mar-63   \n",
      "4                      NaN    Living Characters       2258.0           Nov-50   \n",
      "5                      NaN    Living Characters       2255.0           Nov-61   \n",
      "6                      NaN    Living Characters       2072.0           Nov-61   \n",
      "7                      NaN    Living Characters       2017.0           May-62   \n",
      "8                      NaN    Living Characters       1955.0           Sep-63   \n",
      "9                      NaN    Living Characters       1934.0           Nov-61   \n",
      "10                     NaN    Living Characters       1825.0           Sep-63   \n",
      "11                     NaN    Living Characters       1713.0           Nov-61   \n",
      "12                     NaN    Living Characters       1528.0              NaN   \n",
      "13                     NaN    Living Characters       1512.0           May-75   \n",
      "14                     NaN    Living Characters       1394.0           Sep-64   \n",
      "15                     NaN    Living Characters       1338.0           Apr-64   \n",
      "16                     NaN    Living Characters       1307.0           Jul-63   \n",
      "17                     NaN    Living Characters       1304.0           Jun-65   \n",
      "18                     NaN    Living Characters       1266.0           Mar-63   \n",
      "19                     NaN    Living Characters       1265.0           Sep-63   \n",
      "20                     NaN    Living Characters       1237.0           Jan-62   \n",
      "21                     NaN  Deceased Characters       1233.0           Sep-63   \n",
      "22                     NaN    Living Characters       1230.0           Sep-63   \n",
      "23                     NaN    Living Characters       1162.0           May-75   \n",
      "24                     NaN    Living Characters       1161.0           Mar-64   \n",
      "25                     NaN    Living Characters       1137.0           May-63   \n",
      "26                     NaN    Living Characters       1120.0           Jun-63   \n",
      "27                     NaN  Deceased Characters       1107.0           Sep-63   \n",
      "28     Bisexual Characters    Living Characters       1050.0           Apr-64   \n",
      "29                     NaN    Living Characters       1047.0           May-75   \n",
      "...                    ...                  ...          ...              ...   \n",
      "17164                  NaN                  NaN          NaN              NaN   \n",
      "17165                  NaN                  NaN          NaN              NaN   \n",
      "17166                  NaN                  NaN          NaN              NaN   \n",
      "17167                  NaN                  NaN          NaN              NaN   \n",
      "17168                  NaN                  NaN          NaN              NaN   \n",
      "17169                  NaN                  NaN          NaN              NaN   \n",
      "17170                  NaN                  NaN          NaN              NaN   \n",
      "17171                  NaN                  NaN          NaN              NaN   \n",
      "17172                  NaN                  NaN          NaN              NaN   \n",
      "17173                  NaN                  NaN          NaN              NaN   \n",
      "17174                  NaN                  NaN          NaN              NaN   \n",
      "17175                  NaN                  NaN          NaN              NaN   \n",
      "17176                  NaN                  NaN          NaN              NaN   \n",
      "17177                  NaN                  NaN          NaN              NaN   \n",
      "17178                  NaN                  NaN          NaN              NaN   \n",
      "17179                  NaN                  NaN          NaN              NaN   \n",
      "17180                  NaN                  NaN          NaN              NaN   \n",
      "17181                  NaN                  NaN          NaN              NaN   \n",
      "17182                  NaN                  NaN          NaN              NaN   \n",
      "17183                  NaN                  NaN          NaN              NaN   \n",
      "17184                  NaN                  NaN          NaN              NaN   \n",
      "17185                  NaN                  NaN          NaN              NaN   \n",
      "17186                  NaN                  NaN          NaN              NaN   \n",
      "17187                  NaN                  NaN          NaN              NaN   \n",
      "17188                  NaN                  NaN          NaN              NaN   \n",
      "17189                  NaN                  NaN          NaN              NaN   \n",
      "17190                  NaN                  NaN          NaN              NaN   \n",
      "17191                  NaN                  NaN          NaN              NaN   \n",
      "17192                  NaN                  NaN          NaN              NaN   \n",
      "17193                  NaN                  NaN          NaN              NaN   \n",
      "\n",
      "         Year         Affinities  Killability    Weaknesses  \n",
      "0      1962.0       bouncy balls            1  giant robots  \n",
      "1      1941.0         bubble gum           10     apple pie  \n",
      "2      1974.0         Kanye West            1       lactose  \n",
      "3      1963.0             clouds            8     kangaroos  \n",
      "4      1950.0         preschools            3    boomerangs  \n",
      "5      1961.0          shag rugs            6     fireballs  \n",
      "6      1961.0       rubber ducks            9   butterflies  \n",
      "7      1962.0       rubber ducks            8    boomerangs  \n",
      "8      1963.0         preschools            1     tv static  \n",
      "9      1961.0       bouncy balls            6   butterflies  \n",
      "10     1963.0             clouds            6        ponies  \n",
      "11     1961.0             clouds            9     tv static  \n",
      "12        NaN      Panda Express            8   butterflies  \n",
      "13     1975.0       rubber ducks            6     kangaroos  \n",
      "14     1964.0       rubber ducks            7       gerbils  \n",
      "15     1964.0         milkshakes            6          Shaq  \n",
      "16     1963.0             storms            9     true love  \n",
      "17     1965.0       bouncy balls            3       gerbils  \n",
      "18     1963.0         milkshakes            8          Shaq  \n",
      "19     1963.0         bubble gum            3       Walmart  \n",
      "20     1962.0             storms           10     tv static  \n",
      "21     1963.0             storms           10       Walmart  \n",
      "22     1963.0      Panda Express            1     apple pie  \n",
      "23     1975.0          shag rugs            7   butterflies  \n",
      "24     1964.0         Kanye West            2     tv static  \n",
      "25     1963.0         preschools            6     apple pie  \n",
      "26     1963.0             storms            6     true love  \n",
      "27     1963.0             storms            4    boomerangs  \n",
      "28     1964.0         milkshakes            3    boomerangs  \n",
      "29     1975.0           balloons            2       lactose  \n",
      "...       ...                ...          ...           ...  \n",
      "17164     NaN         preschools            1     true love  \n",
      "17165     NaN         bubble gum            5    boomerangs  \n",
      "17166     NaN             clouds            5       gerbils  \n",
      "17167     NaN             ghosts            6  giant robots  \n",
      "17168     NaN  plasma laser guns            4        ponies  \n",
      "17169     NaN         Kanye West            4   butterflies  \n",
      "17170     NaN         milkshakes            7       Walmart  \n",
      "17171     NaN         milkshakes            8    boomerangs  \n",
      "17172     NaN             ghosts            5     true love  \n",
      "17173     NaN             ghosts            4       lactose  \n",
      "17174     NaN             clouds            9       lactose  \n",
      "17175     NaN         milkshakes            3     tv static  \n",
      "17176     NaN       rubber ducks            2     fireballs  \n",
      "17177     NaN             storms            9          Shaq  \n",
      "17178     NaN         preschools            5  giant robots  \n",
      "17179     NaN      Panda Express            7    boomerangs  \n",
      "17180     NaN  plasma laser guns            4     apple pie  \n",
      "17181     NaN         Kanye West           10       spiders  \n",
      "17182     NaN       rubber ducks            3          Shaq  \n",
      "17183     NaN      Panda Express            9     fireballs  \n",
      "17184     NaN       bouncy balls            7     fireballs  \n",
      "17185     NaN      Panda Express            2     apple pie  \n",
      "17186     NaN         Kanye West            5       spiders  \n",
      "17187     NaN         preschools            7       spiders  \n",
      "17188     NaN         milkshakes            2       Walmart  \n",
      "17189     NaN             storms            8    boomerangs  \n",
      "17190     NaN       bouncy balls            1       lactose  \n",
      "17191     NaN             storms           10  giant robots  \n",
      "17192     NaN         preschools            5       Walmart  \n",
      "17193     NaN       bouncy balls            7       gerbils  \n",
      "\n",
      "[17194 rows x 16 columns]\n"
     ]
    }
   ],
   "source": [
    "everything = pd.merge(df, marvel, how=\"outer\", on=\"page_id\")\n",
    "print everything"
   ]
  },
  {
   "cell_type": "markdown",
   "metadata": {
    "button": false,
    "deletable": true,
    "new_sheet": false,
    "run_control": {
     "read_only": false
    }
   },
   "source": [
    "### The General wants us to assume that all the heros in this new table without entries are deceased and good aligned. Let's update the table with our new data"
   ]
  },
  {
   "cell_type": "code",
   "execution_count": 13,
   "metadata": {
    "button": false,
    "collapsed": false,
    "deletable": true,
    "new_sheet": false,
    "run_control": {
     "read_only": false
    }
   },
   "outputs": [],
   "source": [
    "everything['ALIVE'] = everything['ALIVE'].fillna('Deceased Characters')\n",
    "everything['ALIGN'] = everything['ALIGN'].fillna('Good Characters')"
   ]
  },
  {
   "cell_type": "markdown",
   "metadata": {
    "button": false,
    "deletable": true,
    "new_sheet": false,
    "run_control": {
     "read_only": false
    }
   },
   "source": [
    "### The General wants us to update our dates of first appearances so that we can more easily work with the data. Add a new column with the updated datetime field called \"Character Created\". If the date is blank, use 0 as the value (we will need to filter out these values during our analysis)."
   ]
  },
  {
   "cell_type": "code",
   "execution_count": 14,
   "metadata": {
    "button": false,
    "collapsed": false,
    "deletable": true,
    "new_sheet": false,
    "run_control": {
     "read_only": false
    }
   },
   "outputs": [],
   "source": [
    "everything['Character Created'] = everything['FIRST APPEARANCE'].fillna(0)"
   ]
  },
  {
   "cell_type": "markdown",
   "metadata": {
    "button": false,
    "deletable": true,
    "new_sheet": false,
    "run_control": {
     "read_only": false
    }
   },
   "source": [
    "### Who was the first superhero to appear in our table?"
   ]
  },
  {
   "cell_type": "code",
   "execution_count": 66,
   "metadata": {
    "button": false,
    "collapsed": false,
    "deletable": true,
    "new_sheet": false,
    "run_control": {
     "read_only": false
    }
   },
   "outputs": [
    {
     "name": "stdout",
     "output_type": "stream",
     "text": [
      "[ \"Pete Johnson (Earth-616\n"
     ]
    }
   ],
   "source": [
    "everything.columns.values\n",
    "first = pd.pivot_table(everything, index=['Year', 'Character Created'], values= ['name'], aggfunc=sum)[:1]\n",
    "print str(first['name'].values).split(')')[0]"
   ]
  },
  {
   "cell_type": "markdown",
   "metadata": {
    "run_control": {}
   },
   "source": [
    "### Who was the lastest superhero to appear in our table?"
   ]
  },
  {
   "cell_type": "code",
   "execution_count": 68,
   "metadata": {
    "collapsed": false,
    "run_control": {}
   },
   "outputs": [
    {
     "name": "stdout",
     "output_type": "stream",
     "text": [
      "[ 'Kevin Connor (Earth-616\n"
     ]
    },
    {
     "name": "stderr",
     "output_type": "stream",
     "text": [
      "/Users/work/anaconda/lib/python2.7/site-packages/ipykernel/__main__.py:1: FutureWarning: sort(....) is deprecated, use sort_index(.....)\n",
      "  if __name__ == '__main__':\n"
     ]
    }
   ],
   "source": [
    "last = pd.pivot_table(everything, index=['Year', 'Character Created'], values= ['name'], aggfunc=sum).sort(ascending = False)[:1]\n",
    "\n",
    "print str(last['name'].values).split(')')[0]"
   ]
  },
  {
   "cell_type": "markdown",
   "metadata": {
    "run_control": {}
   },
   "source": [
    "### What was the date difference between their appearances?"
   ]
  },
  {
   "cell_type": "code",
   "execution_count": 96,
   "metadata": {
    "collapsed": false
   },
   "outputs": [
    {
     "name": "stdout",
     "output_type": "stream",
     "text": [
      "Difference between first and last appearence in years: 74.0\n"
     ]
    }
   ],
   "source": [
    "print 'Difference between first and last appearence in years:', max(everything['Year'])- min(everything['Year'])"
   ]
  },
  {
   "cell_type": "code",
   "execution_count": null,
   "metadata": {
    "collapsed": true
   },
   "outputs": [],
   "source": []
  }
 ],
 "metadata": {
  "anaconda-cloud": {},
  "kernelspec": {
   "display_name": "Python [default]",
   "language": "python",
   "name": "python2"
  },
  "language_info": {
   "codemirror_mode": {
    "name": "ipython",
    "version": 2
   },
   "file_extension": ".py",
   "mimetype": "text/x-python",
   "name": "python",
   "nbconvert_exporter": "python",
   "pygments_lexer": "ipython2",
   "version": "2.7.12"
  }
 },
 "nbformat": 4,
 "nbformat_minor": 0
}
